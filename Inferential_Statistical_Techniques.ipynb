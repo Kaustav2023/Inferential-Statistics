{
  "nbformat": 4,
  "nbformat_minor": 0,
  "metadata": {
    "colab": {
      "provenance": []
    },
    "kernelspec": {
      "name": "python3",
      "display_name": "Python 3"
    },
    "language_info": {
      "name": "python"
    }
  },
  "cells": [
    {
      "cell_type": "markdown",
      "source": [
        "# Confidence Interval\n",
        "  CI= X _+ Z(S/sqrt(n))\n",
        "\n",
        "  x= sample mean\n",
        "  Z= confidence level value(Constant)\n",
        "  s= Sample standard deviation\n",
        "  n= sample size\n",
        "\n",
        "Note : Z is a constant and depending upon the confidence level(90%, 95%, 99%) the value of Z is determined.\n",
        "\n",
        "Z for 95% is 1.64\n"
      ],
      "metadata": {
        "id": "76H6aEeaUg1s"
      }
    },
    {
      "cell_type": "code",
      "source": [
        "import scipy.stats as st\n",
        "import statistics as s\n",
        "import matplotlib.pyplot as plt\n",
        "import numpy as np"
      ],
      "metadata": {
        "id": "Gk7b_iFRVeS-"
      },
      "execution_count": null,
      "outputs": []
    },
    {
      "cell_type": "code",
      "source": [
        "height=[169,174,155,158, 195, 158, 163,175,172, 182, 176]"
      ],
      "metadata": {
        "id": "31HUiuuiVncz"
      },
      "execution_count": null,
      "outputs": []
    },
    {
      "cell_type": "code",
      "source": [
        "len(height)"
      ],
      "metadata": {
        "colab": {
          "base_uri": "https://localhost:8080/"
        },
        "id": "P80I3gPnVzUU",
        "outputId": "a4059025-721a-4029-8cd9-1db530cdd6f7"
      },
      "execution_count": null,
      "outputs": [
        {
          "output_type": "execute_result",
          "data": {
            "text/plain": [
              "11"
            ]
          },
          "metadata": {},
          "execution_count": 4
        }
      ]
    },
    {
      "cell_type": "code",
      "source": [
        "sample_mean=np.mean(height)"
      ],
      "metadata": {
        "id": "Ypi-mE2tV0cx"
      },
      "execution_count": null,
      "outputs": []
    },
    {
      "cell_type": "code",
      "source": [
        "#Calculating Z value\n",
        "z_val=st.norm.ppf(0.95)"
      ],
      "metadata": {
        "id": "T6TLwRYyV44I"
      },
      "execution_count": null,
      "outputs": []
    },
    {
      "cell_type": "markdown",
      "source": [
        "s.norm -> inside the stats function called norm\n",
        "norm.ppf() -> ppf full form is percentage point function takes confidence level for 95% - 0.95"
      ],
      "metadata": {
        "id": "tclv-lPrWDwg"
      }
    },
    {
      "cell_type": "code",
      "source": [
        "std_dev=np.std(height)"
      ],
      "metadata": {
        "id": "iOyCQ5WuWcoR"
      },
      "execution_count": null,
      "outputs": []
    },
    {
      "cell_type": "markdown",
      "source": [
        "If the std_deviation is 11 and\n",
        "when std_deviation X Z_val = 11*1.64 = 18.04\n",
        "gives spread of data from mean"
      ],
      "metadata": {
        "id": "FTK3rHhbWrN1"
      }
    },
    {
      "cell_type": "code",
      "source": [
        "# You dont have to calculate standard error of mean\n",
        "sem = st.sem(height)"
      ],
      "metadata": {
        "id": "btUXuMSTWqXp"
      },
      "execution_count": null,
      "outputs": []
    },
    {
      "cell_type": "markdown",
      "source": [],
      "metadata": {
        "id": "r3stSwxui79q"
      }
    },
    {
      "cell_type": "code",
      "source": [
        "lower_range=sample_mean-(z_val*sem)\n",
        "upper_range=sample_mean+(z_val*sem)\n",
        "print(f\" Lower range : {lower_range}\")\n",
        "print(f\" Upper range : {upper_range}\")"
      ],
      "metadata": {
        "colab": {
          "base_uri": "https://localhost:8080/"
        },
        "id": "cC2kOlvaXQze",
        "outputId": "be874521-aa98-4d8f-b339-a14a06814f76"
      },
      "execution_count": null,
      "outputs": [
        {
          "output_type": "stream",
          "name": "stdout",
          "text": [
            " Lower range : 164.75041663266273\n",
            " Upper range : 176.52231064006452\n"
          ]
        }
      ]
    },
    {
      "cell_type": "code",
      "source": [
        "import seaborn as sns\n",
        "plt.figure(figsize=(10,5))\n",
        "sns.displot(height)\n",
        "plt.axvline(x=lower_range,color='red')\n",
        "plt.axvline(x=upper_range,color=\"red\")\n",
        "plt.axvline(x=sample_mean, color=\"green\")\n",
        "plt.show()"
      ],
      "metadata": {
        "colab": {
          "base_uri": "https://localhost:8080/",
          "height": 524
        },
        "id": "uDoxPIF0qXio",
        "outputId": "274f1587-9f20-4066-d63d-297d1a317f20"
      },
      "execution_count": null,
      "outputs": [
        {
          "output_type": "display_data",
          "data": {
            "text/plain": [
              "<Figure size 1000x500 with 0 Axes>"
            ]
          },
          "metadata": {}
        },
        {
          "output_type": "display_data",
          "data": {
            "text/plain": [
              "<Figure size 500x500 with 1 Axes>"
            ],
            "image/png": "[encoded data removed]"
          },
          "metadata": {}
        }
      ]
    },
    {
      "cell_type": "code",
      "source": [],
      "metadata": {
        "id": "uC_xHBKNq5KX"
      },
      "execution_count": null,
      "outputs": []
    },
    {
      "cell_type": "markdown",
      "source": [
        "# T-Test\n",
        "T-test is a parameteric test, that compares the means of the two samples. Ideally, a sample for t-test should have less than 30 values. There are a few other assumptions that are taken before we can conduct a t-test.\n",
        "\n",
        "# Assumptions:\n",
        " - The sample are independent.\n",
        " - Homogeneity in sample variances.\n",
        " - The data is assumed to be normally distributed.\n",
        "\n",
        "# Types of T-Test\n",
        " - One-Sample: if we compare the sample against a std value.\n",
        " - Two-Sample: if both samples are taken from 2 different populations\n",
        " - Paired: if the samples are taken from the same population.\n"
      ],
      "metadata": {
        "id": "pjNuOygMq-TL"
      }
    },
    {
      "cell_type": "markdown",
      "source": [
        "# One Sample T-Test"
      ],
      "metadata": {
        "id": "3zhBiT5lsKYl"
      }
    },
    {
      "cell_type": "code",
      "source": [
        "from scipy.stats import ttest_1samp\n",
        "from random import sample\n",
        "import numpy as np"
      ],
      "metadata": {
        "id": "GwtEH2ejrnxr"
      },
      "execution_count": null,
      "outputs": []
    },
    {
      "cell_type": "markdown",
      "source": [
        "Problem Statement: test the hypothesis whether average weight of a new born is 3kg.\n",
        "\n",
        "Null Hypothesis: Avg wt. of new born baby is 3kg.\n",
        "\n",
        "Alternate Hypothesis: Avg wt. of new born baby is not 3kg."
      ],
      "metadata": {
        "id": "b6GH5h2gsXX6"
      }
    },
    {
      "cell_type": "code",
      "source": [
        "weights=[2,1,5,1,2,3,4,2,3,5]\n",
        "avg_weight=np.mean(weights)\n",
        "ttest_1samp(weights,popmean=3) #popmean= population mean takes the assumed value"
      ],
      "metadata": {
        "colab": {
          "base_uri": "https://localhost:8080/"
        },
        "id": "c_Aaa5owsWrg",
        "outputId": "67a9dac1-a7d0-42da-98e4-2fd002f7f730"
      },
      "execution_count": null,
      "outputs": [
        {
          "output_type": "execute_result",
          "data": {
            "text/plain": [
              "TtestResult(statistic=-0.42857142857142894, pvalue=0.6783097418055795, df=9)"
            ]
          },
          "metadata": {},
          "execution_count": 16
        }
      ]
    },
    {
      "cell_type": "markdown",
      "source": [
        "if p-value is < 0.05 ( alpha=1-level of confidence ) then we can say that with 95% confidence I can reject the null hypothesis."
      ],
      "metadata": {
        "id": "VhP7tod9tYMi"
      }
    },
    {
      "cell_type": "markdown",
      "source": [
        "# Two Sample T-Test\n",
        "Problem Statement: Compare the average salary of male and femmale employees and the find out whether both groups have same salaries or different.\n",
        "\n",
        "Null Hypothesis: Both male and female employees have same average salaries.\n",
        "\n",
        "Alternate Hypothesis: Both male and female employees do not have the same average salaries."
      ],
      "metadata": {
        "id": "2vMgNU5Gt-uM"
      }
    },
    {
      "cell_type": "code",
      "source": [
        "from scipy.stats import ttest_ind\n",
        "from random import sample\n",
        "import numpy as np\n",
        "male_salaries=sample(range(40,100),30)\n",
        "female_salaries=sample(range(20,50),30)\n",
        "\n",
        "ttest_ind(male_salaries , female_salaries,equal_var=False)"
      ],
      "metadata": {
        "colab": {
          "base_uri": "https://localhost:8080/"
        },
        "id": "cRhp0tc0tKE5",
        "outputId": "8da0a84a-49a9-43bd-ea95-b489ebc0c290"
      },
      "execution_count": null,
      "outputs": [
        {
          "output_type": "execute_result",
          "data": {
            "text/plain": [
              "TtestResult(statistic=9.235970764075054, pvalue=1.1320488917073025e-11, df=42.02714255009248)"
            ]
          },
          "metadata": {},
          "execution_count": 17
        }
      ]
    },
    {
      "cell_type": "markdown",
      "source": [
        "if p-value is < 0.05 ( alpha=1-level of confidence ) then we can say that with 95% confidence I can reject the null hypothesis."
      ],
      "metadata": {
        "id": "OaQ-5MMDvURM"
      }
    },
    {
      "cell_type": "markdown",
      "source": [
        "#Paired T-Test\n",
        "Problem Statement: You want to compare the blood sugar level before fasting and blood sugar level after eating is same or not.\n",
        "\n",
        "Null Hypothesis: Its the same\n",
        "\n",
        "Alternate Hypothesis: Its not the same"
      ],
      "metadata": {
        "id": "MEC2gwsJvhHv"
      }
    },
    {
      "cell_type": "code",
      "source": [
        "from scipy.stats import ttest_rel\n",
        "before_wts=sample(range(55,85),30)\n",
        "after_wts=sample(range(65,95),30)\n",
        "ttest_rel(before_wts,after_wts)"
      ],
      "metadata": {
        "colab": {
          "base_uri": "https://localhost:8080/"
        },
        "id": "h7MYURQsvPTf",
        "outputId": "e884658a-e5e8-4c8a-b1e9-d1c0a3e66778"
      },
      "execution_count": null,
      "outputs": [
        {
          "output_type": "execute_result",
          "data": {
            "text/plain": [
              "TtestResult(statistic=-3.9514279952598024, pvalue=0.00045639662777347836, df=29)"
            ]
          },
          "metadata": {},
          "execution_count": 18
        }
      ]
    },
    {
      "cell_type": "markdown",
      "source": [
        "if p-value is < 0.05 ( alpha=1-level of confidence ) then we can say that with 95% confidence I can reject the null hypothesis."
      ],
      "metadata": {
        "id": "sXdmXoyXwaDo"
      }
    },
    {
      "cell_type": "markdown",
      "source": [
        "# Z-Test\n",
        "Z-test isa statistical test to compare the means of population where the variances are known and sample sizes are considerably laarger compared to t-test.\n",
        "\n",
        "Z-test is similar to t-test except sample size is greater than 30"
      ],
      "metadata": {
        "id": "-iejpHi1xGmp"
      }
    },
    {
      "cell_type": "markdown",
      "source": [
        "# One Sample Z-Test\n",
        "Problem Statement: Based on some historical data ,average literacy rate in particular country was 89% test this hypothesis with appropriate technique for recent times.\n",
        "\n",
        "Null Hypothesis: avg literacy is 89%\n",
        "Alternate Hypothesis: avg literacy is not 89%"
      ],
      "metadata": {
        "id": "Lb5FxoQfxj60"
      }
    },
    {
      "cell_type": "code",
      "source": [
        "from statsmodels.stats.weightstats import ztest\n",
        "\n",
        "sample1=sample(range(25,100),50)\n",
        "ztest(sample1,value=89)"
      ],
      "metadata": {
        "colab": {
          "base_uri": "https://localhost:8080/"
        },
        "id": "n7ONz8uawWny",
        "outputId": "dc441c17-e69f-4241-e6e7-918b3ce7f48e"
      },
      "execution_count": null,
      "outputs": [
        {
          "output_type": "execute_result",
          "data": {
            "text/plain": [
              "(-9.338966053771006, 9.727941188729055e-21)"
            ]
          },
          "metadata": {},
          "execution_count": 23
        }
      ]
    },
    {
      "cell_type": "markdown",
      "source": [
        "# Two Sample Z Test\n",
        "Compare the avg literacy rate of urban and rural regions in India and check if it is same or different.\n",
        "\n",
        "Null Hypothesis: Average literacy rate of urban and rural is same.\n",
        "\n",
        "Alternate Hypothesis: Average literacy rate is different.\n",
        "\n"
      ],
      "metadata": {
        "id": "9g-TBVGkzjSM"
      }
    },
    {
      "cell_type": "code",
      "source": [
        "urban_lit=sample(range(50,100),50)\n",
        "rural_lit=sample(range(30,90),50)\n",
        "ztest(urban_lit,rural_lit)"
      ],
      "metadata": {
        "colab": {
          "base_uri": "https://localhost:8080/"
        },
        "id": "_YFFEJhWzi0z",
        "outputId": "a48c54ed-9f11-4cb9-e1b8-8ec7a69c095a"
      },
      "execution_count": null,
      "outputs": [
        {
          "output_type": "execute_result",
          "data": {
            "text/plain": [
              "(4.503863342671719, 6.672912558309733e-06)"
            ]
          },
          "metadata": {},
          "execution_count": 24
        }
      ]
    },
    {
      "cell_type": "markdown",
      "source": [
        "# F-Test\n",
        "F-Test is a statiscal test that is used to compare the variances of two populations. There are several assumptions that are made about the data before we can begin the f-test.\n",
        "\n",
        "Assumptions:\n",
        "- Data is normally distributed\n",
        "- The data is independent\n",
        "\n",
        "In t-test and z-test we were comparing the mean so the parameter was mean.\n",
        "\n",
        "In F-Test we are comparing the variance.\n",
        "\n",
        "Problem Statement: Compare the variance of male and female salaries in both groups have same or different distributions\n",
        "\n",
        "Null Hypothesis: Both male and female have equal variances\n",
        "\n",
        "Alternate Hypothesis: Make and Female have different variances."
      ],
      "metadata": {
        "id": "F0irCxcg-odj"
      }
    },
    {
      "cell_type": "code",
      "source": [
        "male_salary=sample(range(10,100),35)\n",
        "female_salary=sample(range(45,80),35)\n",
        "\n",
        "f_stat=np.var(male_salary)/np.var(female_salary)\n",
        "# Now you have to calculate p_value using f_statistics.\n",
        "p_val=st.f.cdf(f_stat,len(male_salary)-1,len(female_salary)-1)\n",
        "print(f\"p_value: {p_val}\")"
      ],
      "metadata": {
        "colab": {
          "base_uri": "https://localhost:8080/"
        },
        "id": "W4uYmsrayhk_",
        "outputId": "b430bc52-e01b-438d-b09e-26759b4b579e"
      },
      "execution_count": null,
      "outputs": [
        {
          "output_type": "stream",
          "name": "stdout",
          "text": [
            "p_value: 0.9999999630887771\n"
          ]
        }
      ]
    },
    {
      "cell_type": "markdown",
      "source": [
        "- Stats library has a function f\n",
        "\n",
        "in f function there another function cdf ( f, degrees of freedom gr1, degrees of freedom gr2 )\n",
        "\n",
        "- cdf takes 3 parameters\n",
        "- degrees of freedom - can be calculated in many ways in general it is  calculated as no. of samples - 1. But here we calculate as length of sample - 1.\n"
      ],
      "metadata": {
        "id": "pO9Sa2irEtY3"
      }
    },
    {
      "cell_type": "markdown",
      "source": [
        "# ANOVA\n",
        "Analyis of Variance  is a collection of statistical models and their associated estimation procedures used to analyze the differences among means. It compares the variance of multiple groups more than 3\n",
        "\n",
        "- One Way ANOVA\n",
        "\n",
        "Null Hypothesis: All the groups have same variances\n",
        "\n",
        "Alternate Hypothesis: All the groups does not have same variances."
      ],
      "metadata": {
        "id": "8l-kkUJ2GvLW"
      }
    },
    {
      "cell_type": "code",
      "source": [
        "from scipy.stats import f_oneway\n",
        "India=sample(range(10,200),40)\n",
        "USA=sample(range(100,1000),40)\n",
        "Japan=sample(range(10,800),40)\n",
        "print(f_oneway(India,USA,Japan))"
      ],
      "metadata": {
        "colab": {
          "base_uri": "https://localhost:8080/"
        },
        "id": "jWGXkUSGGflM",
        "outputId": "5906d377-6005-4db5-c285-e07edf34bd89"
      },
      "execution_count": null,
      "outputs": [
        {
          "output_type": "stream",
          "name": "stdout",
          "text": [
            "F_onewayResult(statistic=44.72229140618993, pvalue=3.739974757910645e-15)\n"
          ]
        }
      ]
    },
    {
      "cell_type": "markdown",
      "source": [
        "- Two ANOVA\n",
        "\n",
        "\n",
        "1.   Impact of more than one categorical data on our marks\n",
        "2.   Relevance of the categorical data on the marks ( Are they correlated )\n",
        "3.   One variable has to be numerical and all the other variables has to  be categorical.\n",
        "\n"
      ],
      "metadata": {
        "id": "WV7Adp-mIS6V"
      }
    },
    {
      "cell_type": "code",
      "source": [
        "import statsmodels.api as sm\n",
        "from statsmodels.formula.api import ols\n",
        "import pandas as pd\n",
        "df=pd.read_excel(r\"Data.xlsx\")\n",
        "model=ols('Marks ~C(Gender) + C(Tution)',data=df).fit()\n",
        "sm.stats.anova_lm(model,typ=2)"
      ],
      "metadata": {
        "colab": {
          "base_uri": "https://localhost:8080/",
          "height": 143
        },
        "id": "O7W4oVi-IBf0",
        "outputId": "ac3aeaba-9600-4aa1-f394-d053a68cb1c0"
      },
      "execution_count": null,
      "outputs": [
        {
          "output_type": "execute_result",
          "data": {
            "text/plain": [
              "           sum_sq   df         F    PR(>F)\n",
              "C(Gender)  111.50  2.0  0.165799  0.857781\n",
              "C(Tution)  110.25  1.0  0.327881  0.624701\n",
              "Residual   672.50  2.0       NaN       NaN"
            ],
            "text/html": [
              "\n",
              "  <div id=\"df-40c07411-0963-40b9-b959-6234613fce15\" class=\"colab-df-container\">\n",
              "    <div>\n",
              "<style scoped>\n",
              "    .dataframe tbody tr th:only-of-type {\n",
              "        vertical-align: middle;\n",
              "    }\n",
              "\n",
              "    .dataframe tbody tr th {\n",
              "        vertical-align: top;\n",
              "    }\n",
              "\n",
              "    .dataframe thead th {\n",
              "        text-align: right;\n",
              "    }\n",
              "</style>\n",
              "<table border=\"1\" class=\"dataframe\">\n",
              "  <thead>\n",
              "    <tr style=\"text-align: right;\">\n",
              "      <th></th>\n",
              "      <th>sum_sq</th>\n",
              "      <th>df</th>\n",
              "      <th>F</th>\n",
              "      <th>PR(&gt;F)</th>\n",
              "    </tr>\n",
              "  </thead>\n",
              "  <tbody>\n",
              "    <tr>\n",
              "      <th>C(Gender)</th>\n",
              "      <td>111.50</td>\n",
              "      <td>2.0</td>\n",
              "      <td>0.165799</td>\n",
              "      <td>0.857781</td>\n",
              "    </tr>\n",
              "    <tr>\n",
              "      <th>C(Tution)</th>\n",
              "      <td>110.25</td>\n",
              "      <td>1.0</td>\n",
              "      <td>0.327881</td>\n",
              "      <td>0.624701</td>\n",
              "    </tr>\n",
              "    <tr>\n",
              "      <th>Residual</th>\n",
              "      <td>672.50</td>\n",
              "      <td>2.0</td>\n",
              "      <td>NaN</td>\n",
              "      <td>NaN</td>\n",
              "    </tr>\n",
              "  </tbody>\n",
              "</table>\n",
              "</div>\n",
              "    <div class=\"colab-df-buttons\">\n",
              "\n",
              "  <div class=\"colab-df-container\">\n",
              "    <button class=\"colab-df-convert\" onclick=\"convertToInteractive('df-40c07411-0963-40b9-b959-6234613fce15')\"\n",
              "            title=\"Convert this dataframe to an interactive table.\"\n",
              "            style=\"display:none;\">\n",
              "\n",
              "  <svg xmlns=\"http://www.w3.org/2000/svg\" height=\"24px\" viewBox=\"0 -960 960 960\">\n",
              "    <path d=\"M120-120v-720h720v720H120Zm60-500h600v-160H180v160Zm220 220h160v-160H400v160Zm0 220h160v-160H400v160ZM180-400h160v-160H180v160Zm440 0h160v-160H620v160ZM180-180h160v-160H180v160Zm440 0h160v-160H620v160Z\"/>\n",
              "  </svg>\n",
              "    </button>\n",
              "\n",
              "  <style>\n",
              "    .colab-df-container {\n",
              "      display:flex;\n",
              "      gap: 12px;\n",
              "    }\n",
              "\n",
              "    .colab-df-convert {\n",
              "      background-color: #E8F0FE;\n",
              "      border: none;\n",
              "      border-radius: 50%;\n",
              "      cursor: pointer;\n",
              "      display: none;\n",
              "      fill: #1967D2;\n",
              "      height: 32px;\n",
              "      padding: 0 0 0 0;\n",
              "      width: 32px;\n",
              "    }\n",
              "\n",
              "    .colab-df-convert:hover {\n",
              "      background-color: #E2EBFA;\n",
              "      box-shadow: 0px 1px 2px rgba(60, 64, 67, 0.3), 0px 1px 3px 1px rgba(60, 64, 67, 0.15);\n",
              "      fill: #174EA6;\n",
              "    }\n",
              "\n",
              "    .colab-df-buttons div {\n",
              "      margin-bottom: 4px;\n",
              "    }\n",
              "\n",
              "    [theme=dark] .colab-df-convert {\n",
              "      background-color: #3B4455;\n",
              "      fill: #D2E3FC;\n",
              "    }\n",
              "\n",
              "    [theme=dark] .colab-df-convert:hover {\n",
              "      background-color: #434B5C;\n",
              "      box-shadow: 0px 1px 3px 1px rgba(0, 0, 0, 0.15);\n",
              "      filter: drop-shadow(0px 1px 2px rgba(0, 0, 0, 0.3));\n",
              "      fill: #FFFFFF;\n",
              "    }\n",
              "  </style>\n",
              "\n",
              "    <script>\n",
              "      const buttonEl =\n",
              "        document.querySelector('#df-40c07411-0963-40b9-b959-6234613fce15 button.colab-df-convert');\n",
              "      buttonEl.style.display =\n",
              "        google.colab.kernel.accessAllowed ? 'block' : 'none';\n",
              "\n",
              "      async function convertToInteractive(key) {\n",
              "        const element = document.querySelector('#df-40c07411-0963-40b9-b959-6234613fce15');\n",
              "        const dataTable =\n",
              "          await google.colab.kernel.invokeFunction('convertToInteractive',\n",
              "                                                    [key], {});\n",
              "        if (!dataTable) return;\n",
              "\n",
              "        const docLinkHtml = 'Like what you see? Visit the ' +\n",
              "          '<a target=\"_blank\" href=https://colab.research.google.com/notebooks/data_table.ipynb>data table notebook</a>'\n",
              "          + ' to learn more about interactive tables.';\n",
              "        element.innerHTML = '';\n",
              "        dataTable['output_type'] = 'display_data';\n",
              "        await google.colab.output.renderOutput(dataTable, element);\n",
              "        const docLink = document.createElement('div');\n",
              "        docLink.innerHTML = docLinkHtml;\n",
              "        element.appendChild(docLink);\n",
              "      }\n",
              "    </script>\n",
              "  </div>\n",
              "\n",
              "\n",
              "<div id=\"df-51ff3f75-e4dc-4794-9129-d294b3637169\">\n",
              "  <button class=\"colab-df-quickchart\" onclick=\"quickchart('df-51ff3f75-e4dc-4794-9129-d294b3637169')\"\n",
              "            title=\"Suggest charts\"\n",
              "            style=\"display:none;\">\n",
              "\n",
              "<svg xmlns=\"http://www.w3.org/2000/svg\" height=\"24px\"viewBox=\"0 0 24 24\"\n",
              "     width=\"24px\">\n",
              "    <g>\n",
              "        <path d=\"M19 3H5c-1.1 0-2 .9-2 2v14c0 1.1.9 2 2 2h14c1.1 0 2-.9 2-2V5c0-1.1-.9-2-2-2zM9 17H7v-7h2v7zm4 0h-2V7h2v10zm4 0h-2v-4h2v4z\"/>\n",
              "    </g>\n",
              "</svg>\n",
              "  </button>\n",
              "\n",
              "<style>\n",
              "  .colab-df-quickchart {\n",
              "      --bg-color: #E8F0FE;\n",
              "      --fill-color: #1967D2;\n",
              "      --hover-bg-color: #E2EBFA;\n",
              "      --hover-fill-color: #174EA6;\n",
              "      --disabled-fill-color: #AAA;\n",
              "      --disabled-bg-color: #DDD;\n",
              "  }\n",
              "\n",
              "  [theme=dark] .colab-df-quickchart {\n",
              "      --bg-color: #3B4455;\n",
              "      --fill-color: #D2E3FC;\n",
              "      --hover-bg-color: #434B5C;\n",
              "      --hover-fill-color: #FFFFFF;\n",
              "      --disabled-bg-color: #3B4455;\n",
              "      --disabled-fill-color: #666;\n",
              "  }\n",
              "\n",
              "  .colab-df-quickchart {\n",
              "    background-color: var(--bg-color);\n",
              "    border: none;\n",
              "    border-radius: 50%;\n",
              "    cursor: pointer;\n",
              "    display: none;\n",
              "    fill: var(--fill-color);\n",
              "    height: 32px;\n",
              "    padding: 0;\n",
              "    width: 32px;\n",
              "  }\n",
              "\n",
              "  .colab-df-quickchart:hover {\n",
              "    background-color: var(--hover-bg-color);\n",
              "    box-shadow: 0 1px 2px rgba(60, 64, 67, 0.3), 0 1px 3px 1px rgba(60, 64, 67, 0.15);\n",
              "    fill: var(--button-hover-fill-color);\n",
              "  }\n",
              "\n",
              "  .colab-df-quickchart-complete:disabled,\n",
              "  .colab-df-quickchart-complete:disabled:hover {\n",
              "    background-color: var(--disabled-bg-color);\n",
              "    fill: var(--disabled-fill-color);\n",
              "    box-shadow: none;\n",
              "  }\n",
              "\n",
              "  .colab-df-spinner {\n",
              "    border: 2px solid var(--fill-color);\n",
              "    border-color: transparent;\n",
              "    border-bottom-color: var(--fill-color);\n",
              "    animation:\n",
              "      spin 1s steps(1) infinite;\n",
              "  }\n",
              "\n",
              "  @keyframes spin {\n",
              "    0% {\n",
              "      border-color: transparent;\n",
              "      border-bottom-color: var(--fill-color);\n",
              "      border-left-color: var(--fill-color);\n",
              "    }\n",
              "    20% {\n",
              "      border-color: transparent;\n",
              "      border-left-color: var(--fill-color);\n",
              "      border-top-color: var(--fill-color);\n",
              "    }\n",
              "    30% {\n",
              "      border-color: transparent;\n",
              "      border-left-color: var(--fill-color);\n",
              "      border-top-color: var(--fill-color);\n",
              "      border-right-color: var(--fill-color);\n",
              "    }\n",
              "    40% {\n",
              "      border-color: transparent;\n",
              "      border-right-color: var(--fill-color);\n",
              "      border-top-color: var(--fill-color);\n",
              "    }\n",
              "    60% {\n",
              "      border-color: transparent;\n",
              "      border-right-color: var(--fill-color);\n",
              "    }\n",
              "    80% {\n",
              "      border-color: transparent;\n",
              "      border-right-color: var(--fill-color);\n",
              "      border-bottom-color: var(--fill-color);\n",
              "    }\n",
              "    90% {\n",
              "      border-color: transparent;\n",
              "      border-bottom-color: var(--fill-color);\n",
              "    }\n",
              "  }\n",
              "</style>\n",
              "\n",
              "  <script>\n",
              "    async function quickchart(key) {\n",
              "      const quickchartButtonEl =\n",
              "        document.querySelector('#' + key + ' button');\n",
              "      quickchartButtonEl.disabled = true;  // To prevent multiple clicks.\n",
              "      quickchartButtonEl.classList.add('colab-df-spinner');\n",
              "      try {\n",
              "        const charts = await google.colab.kernel.invokeFunction(\n",
              "            'suggestCharts', [key], {});\n",
              "      } catch (error) {\n",
              "        console.error('Error during call to suggestCharts:', error);\n",
              "      }\n",
              "      quickchartButtonEl.classList.remove('colab-df-spinner');\n",
              "      quickchartButtonEl.classList.add('colab-df-quickchart-complete');\n",
              "    }\n",
              "    (() => {\n",
              "      let quickchartButtonEl =\n",
              "        document.querySelector('#df-51ff3f75-e4dc-4794-9129-d294b3637169 button');\n",
              "      quickchartButtonEl.style.display =\n",
              "        google.colab.kernel.accessAllowed ? 'block' : 'none';\n",
              "    })();\n",
              "  </script>\n",
              "</div>\n",
              "\n",
              "    </div>\n",
              "  </div>\n"
            ],
            "application/vnd.google.colaboratory.intrinsic+json": {
              "type": "dataframe",
              "summary": "{\n  \"name\": \"sm\",\n  \"rows\": 3,\n  \"fields\": [\n    {\n      \"column\": \"sum_sq\",\n      \"properties\": {\n        \"dtype\": \"number\",\n        \"std\": 324.2549472765731,\n        \"min\": 110.25000000000041,\n        \"max\": 672.5,\n        \"num_unique_values\": 3,\n        \"samples\": [\n          111.50000000000037,\n          110.25000000000041,\n          672.5\n        ],\n        \"semantic_type\": \"\",\n        \"description\": \"\"\n      }\n    },\n    {\n      \"column\": \"df\",\n      \"properties\": {\n        \"dtype\": \"number\",\n        \"std\": 0.5773502691896257,\n        \"min\": 1.0,\n        \"max\": 2.0,\n        \"num_unique_values\": 2,\n        \"samples\": [\n          1.0,\n          2.0\n        ],\n        \"semantic_type\": \"\",\n        \"description\": \"\"\n      }\n    },\n    {\n      \"column\": \"F\",\n      \"properties\": {\n        \"dtype\": \"number\",\n        \"std\": 0.11460912884659333,\n        \"min\": 0.16579925650557675,\n        \"max\": 0.32788104089219455,\n        \"num_unique_values\": 2,\n        \"samples\": [\n          0.32788104089219455,\n          0.16579925650557675\n        ],\n        \"semantic_type\": \"\",\n        \"description\": \"\"\n      }\n    },\n    {\n      \"column\": \"PR(>F)\",\n      \"properties\": {\n        \"dtype\": \"number\",\n        \"std\": 0.16481239050798946,\n        \"min\": 0.6247006943413681,\n        \"max\": 0.8577806122448975,\n        \"num_unique_values\": 2,\n        \"samples\": [\n          0.6247006943413681,\n          0.8577806122448975\n        ],\n        \"semantic_type\": \"\",\n        \"description\": \"\"\n      }\n    }\n  ]\n}"
            }
          },
          "metadata": {},
          "execution_count": 45
        }
      ]
    },
    {
      "cell_type": "markdown",
      "source": [
        "# Chi Square Test of Independence\n",
        "Chi-Square test for categorical data that can be used to check the goodness of fit or test of independence\n",
        "\n",
        "Assumptions:\n",
        "\n",
        "- The features are categorical in nature.\n",
        "- The samples are taken at random.\n",
        "- Minimum of 5 observations expected in each group."
      ],
      "metadata": {
        "id": "gqg8NuRsMpXe"
      }
    },
    {
      "cell_type": "code",
      "source": [
        "import pandas as pd\n",
        "from scipy.stats import chi2_contingency\n",
        "df=pd.read_excel(r\"Data.xlsx\")\n",
        "table=pd.crosstab(df[\"Gender\"],df[\"Tution\"])\n",
        "print(table)"
      ],
      "metadata": {
        "id": "PwhDmJe2LOyo",
        "colab": {
          "base_uri": "https://localhost:8080/"
        },
        "outputId": "7184212d-178c-4f85-ed1f-e567e4ce7405"
      },
      "execution_count": 1,
      "outputs": [
        {
          "output_type": "stream",
          "name": "stdout",
          "text": [
            "Tution  No  Yes\n",
            "Gender         \n",
            "Female   2    0\n",
            "Male     0    2\n",
            "Trans    1    0\n"
          ]
        }
      ]
    },
    {
      "cell_type": "code",
      "source": [
        "chi2_contingency(table)"
      ],
      "metadata": {
        "id": "1fgSuD4CNw_e",
        "colab": {
          "base_uri": "https://localhost:8080/"
        },
        "outputId": "74800c4b-c7cd-4ec5-f437-5f4ce905b7b1"
      },
      "execution_count": 2,
      "outputs": [
        {
          "output_type": "execute_result",
          "data": {
            "text/plain": [
              "Chi2ContingencyResult(statistic=5.0, pvalue=0.0820849986238988, dof=2, expected_freq=array([[1.2, 0.8],\n",
              "       [1.2, 0.8],\n",
              "       [0.6, 0.4]]))"
            ]
          },
          "metadata": {},
          "execution_count": 2
        }
      ]
    },
    {
      "cell_type": "code",
      "source": [],
      "metadata": {
        "id": "9ENUXQJVTLnT"
      },
      "execution_count": null,
      "outputs": []
    }
  ]
}